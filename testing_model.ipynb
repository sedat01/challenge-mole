{
 "cells": [
  {
   "cell_type": "code",
   "execution_count": 31,
   "metadata": {},
   "outputs": [],
   "source": [
    "import pandas as pd\n",
    "import numpy as np\n",
    "import tensorflow as tf\n",
    "import cv2\n",
    "from tqdm import tqdm"
   ]
  },
  {
   "cell_type": "code",
   "execution_count": 32,
   "metadata": {},
   "outputs": [
    {
     "data": {
      "text/html": [
       "<div>\n",
       "<style scoped>\n",
       "    .dataframe tbody tr th:only-of-type {\n",
       "        vertical-align: middle;\n",
       "    }\n",
       "\n",
       "    .dataframe tbody tr th {\n",
       "        vertical-align: top;\n",
       "    }\n",
       "\n",
       "    .dataframe thead th {\n",
       "        text-align: right;\n",
       "    }\n",
       "</style>\n",
       "<table border=\"1\" class=\"dataframe\">\n",
       "  <thead>\n",
       "    <tr style=\"text-align: right;\">\n",
       "      <th></th>\n",
       "      <th>lesion_id</th>\n",
       "      <th>image_id</th>\n",
       "      <th>dx</th>\n",
       "      <th>dx_type</th>\n",
       "      <th>age</th>\n",
       "      <th>sex</th>\n",
       "      <th>localization</th>\n",
       "    </tr>\n",
       "  </thead>\n",
       "  <tbody>\n",
       "    <tr>\n",
       "      <th>0</th>\n",
       "      <td>HAM_0000118</td>\n",
       "      <td>ISIC_0027419</td>\n",
       "      <td>bkl</td>\n",
       "      <td>histo</td>\n",
       "      <td>80.0</td>\n",
       "      <td>male</td>\n",
       "      <td>scalp</td>\n",
       "    </tr>\n",
       "    <tr>\n",
       "      <th>1</th>\n",
       "      <td>HAM_0000118</td>\n",
       "      <td>ISIC_0025030</td>\n",
       "      <td>bkl</td>\n",
       "      <td>histo</td>\n",
       "      <td>80.0</td>\n",
       "      <td>male</td>\n",
       "      <td>scalp</td>\n",
       "    </tr>\n",
       "    <tr>\n",
       "      <th>2</th>\n",
       "      <td>HAM_0002730</td>\n",
       "      <td>ISIC_0026769</td>\n",
       "      <td>bkl</td>\n",
       "      <td>histo</td>\n",
       "      <td>80.0</td>\n",
       "      <td>male</td>\n",
       "      <td>scalp</td>\n",
       "    </tr>\n",
       "    <tr>\n",
       "      <th>3</th>\n",
       "      <td>HAM_0002730</td>\n",
       "      <td>ISIC_0025661</td>\n",
       "      <td>bkl</td>\n",
       "      <td>histo</td>\n",
       "      <td>80.0</td>\n",
       "      <td>male</td>\n",
       "      <td>scalp</td>\n",
       "    </tr>\n",
       "    <tr>\n",
       "      <th>4</th>\n",
       "      <td>HAM_0001466</td>\n",
       "      <td>ISIC_0031633</td>\n",
       "      <td>bkl</td>\n",
       "      <td>histo</td>\n",
       "      <td>75.0</td>\n",
       "      <td>male</td>\n",
       "      <td>ear</td>\n",
       "    </tr>\n",
       "    <tr>\n",
       "      <th>...</th>\n",
       "      <td>...</td>\n",
       "      <td>...</td>\n",
       "      <td>...</td>\n",
       "      <td>...</td>\n",
       "      <td>...</td>\n",
       "      <td>...</td>\n",
       "      <td>...</td>\n",
       "    </tr>\n",
       "    <tr>\n",
       "      <th>10010</th>\n",
       "      <td>HAM_0002867</td>\n",
       "      <td>ISIC_0033084</td>\n",
       "      <td>akiec</td>\n",
       "      <td>histo</td>\n",
       "      <td>40.0</td>\n",
       "      <td>male</td>\n",
       "      <td>abdomen</td>\n",
       "    </tr>\n",
       "    <tr>\n",
       "      <th>10011</th>\n",
       "      <td>HAM_0002867</td>\n",
       "      <td>ISIC_0033550</td>\n",
       "      <td>akiec</td>\n",
       "      <td>histo</td>\n",
       "      <td>40.0</td>\n",
       "      <td>male</td>\n",
       "      <td>abdomen</td>\n",
       "    </tr>\n",
       "    <tr>\n",
       "      <th>10012</th>\n",
       "      <td>HAM_0002867</td>\n",
       "      <td>ISIC_0033536</td>\n",
       "      <td>akiec</td>\n",
       "      <td>histo</td>\n",
       "      <td>40.0</td>\n",
       "      <td>male</td>\n",
       "      <td>abdomen</td>\n",
       "    </tr>\n",
       "    <tr>\n",
       "      <th>10013</th>\n",
       "      <td>HAM_0000239</td>\n",
       "      <td>ISIC_0032854</td>\n",
       "      <td>akiec</td>\n",
       "      <td>histo</td>\n",
       "      <td>80.0</td>\n",
       "      <td>male</td>\n",
       "      <td>face</td>\n",
       "    </tr>\n",
       "    <tr>\n",
       "      <th>10014</th>\n",
       "      <td>HAM_0003521</td>\n",
       "      <td>ISIC_0032258</td>\n",
       "      <td>mel</td>\n",
       "      <td>histo</td>\n",
       "      <td>70.0</td>\n",
       "      <td>female</td>\n",
       "      <td>back</td>\n",
       "    </tr>\n",
       "  </tbody>\n",
       "</table>\n",
       "<p>10015 rows × 7 columns</p>\n",
       "</div>"
      ],
      "text/plain": [
       "         lesion_id      image_id     dx dx_type   age     sex localization\n",
       "0      HAM_0000118  ISIC_0027419    bkl   histo  80.0    male        scalp\n",
       "1      HAM_0000118  ISIC_0025030    bkl   histo  80.0    male        scalp\n",
       "2      HAM_0002730  ISIC_0026769    bkl   histo  80.0    male        scalp\n",
       "3      HAM_0002730  ISIC_0025661    bkl   histo  80.0    male        scalp\n",
       "4      HAM_0001466  ISIC_0031633    bkl   histo  75.0    male          ear\n",
       "...            ...           ...    ...     ...   ...     ...          ...\n",
       "10010  HAM_0002867  ISIC_0033084  akiec   histo  40.0    male      abdomen\n",
       "10011  HAM_0002867  ISIC_0033550  akiec   histo  40.0    male      abdomen\n",
       "10012  HAM_0002867  ISIC_0033536  akiec   histo  40.0    male      abdomen\n",
       "10013  HAM_0000239  ISIC_0032854  akiec   histo  80.0    male         face\n",
       "10014  HAM_0003521  ISIC_0032258    mel   histo  70.0  female         back\n",
       "\n",
       "[10015 rows x 7 columns]"
      ]
     },
     "execution_count": 32,
     "metadata": {},
     "output_type": "execute_result"
    }
   ],
   "source": [
    "metadata = pd.read_csv(\"./data/HAM10000_metadata.csv\")\n",
    "metadata"
   ]
  },
  {
   "cell_type": "code",
   "execution_count": 36,
   "metadata": {},
   "outputs": [
    {
     "data": {
      "text/plain": [
       "nv       6705\n",
       "mel      1113\n",
       "bkl      1099\n",
       "bcc       514\n",
       "akiec     327\n",
       "vasc      142\n",
       "df        115\n",
       "Name: dx, dtype: int64"
      ]
     },
     "execution_count": 36,
     "metadata": {},
     "output_type": "execute_result"
    }
   ],
   "source": [
    "metadata[\"dx\"].value_counts()"
   ]
  },
  {
   "cell_type": "code",
   "execution_count": 44,
   "metadata": {},
   "outputs": [
    {
     "name": "stdout",
     "output_type": "stream",
     "text": [
      "Found 142 images belonging to 1 classes.\n"
     ]
    },
    {
     "name": "stderr",
     "output_type": "stream",
     "text": [
      "100%|██████████| 6563/6563 [01:21<00:00, 80.43it/s]\n"
     ]
    }
   ],
   "source": [
    "from keras.preprocessing.image import ImageDataGenerator\n",
    "\n",
    "datagen = ImageDataGenerator(rotation_range=90,horizontal_flip=True,vertical_flip=True,\n",
    "                             brightness_range=(0.8,1.2),zoom_range=(0.8,1.2))\n",
    "number = 142\n",
    "current = \"vasc\"\n",
    "batch = datagen.flow_from_directory(\"./data/images/\",classes=[current],save_format=\"jpg\",save_to_dir=f\"./data/augmented/{current}\",batch_size=1,keep_aspect_ratio=True)\n",
    "\n",
    "for i in tqdm(range(6705-number)):\n",
    "    batch.next()"
   ]
  },
  {
   "cell_type": "code",
   "execution_count": 51,
   "metadata": {},
   "outputs": [
    {
     "name": "stderr",
     "output_type": "stream",
     "text": [
      "100%|██████████| 327/327 [00:00<00:00, 1542.47it/s]\n",
      "100%|██████████| 514/514 [00:00<00:00, 1606.25it/s]\n",
      "100%|██████████| 1099/1099 [00:00<00:00, 1609.07it/s]\n",
      "100%|██████████| 115/115 [00:00<00:00, 1619.73it/s]\n",
      "100%|██████████| 1113/1113 [00:00<00:00, 1592.37it/s]\n",
      "100%|██████████| 6705/6705 [00:21<00:00, 305.05it/s]\n",
      "100%|██████████| 142/142 [00:00<00:00, 1613.65it/s]\n",
      "100%|██████████| 7/7 [00:24<00:00,  3.44s/it]\n"
     ]
    }
   ],
   "source": [
    "import shutil,os\n",
    "\n",
    "folders = os.listdir(\"./data/images/\")\n",
    "\n",
    "for folder in tqdm(folders):\n",
    "    current = os.listdir(f\"./data/images/{folder}\")\n",
    "    for file in tqdm(current):\n",
    "        shutil.copy(f\"./data/images/{folder}/{file}\",f\"./data/augmented/{folder}/\")"
   ]
  },
  {
   "cell_type": "code",
   "execution_count": 53,
   "metadata": {},
   "outputs": [
    {
     "name": "stdout",
     "output_type": "stream",
     "text": [
      "Found 46935 files belonging to 7 classes.\n",
      "Using 37548 files for training.\n",
      "Found 46935 files belonging to 7 classes.\n",
      "Using 9387 files for validation.\n"
     ]
    }
   ],
   "source": [
    "from tensorflow.keras.preprocessing import image_dataset_from_directory\n",
    "\n",
    "train = image_dataset_from_directory(\"./data/augmented/\",validation_split=0.2,subset=\"training\",seed=123,label_mode=\"categorical\",shuffle=True)\n",
    "validation = image_dataset_from_directory(\"./data/augmented/\",validation_split=0.2,subset=\"validation\",seed=123,label_mode=\"categorical\",shuffle=True)"
   ]
  },
  {
   "cell_type": "code",
   "execution_count": 65,
   "metadata": {},
   "outputs": [
    {
     "name": "stdout",
     "output_type": "stream",
     "text": [
      "Model: \"sequential_6\"\n",
      "_________________________________________________________________\n",
      " Layer (type)                Output Shape              Param #   \n",
      "=================================================================\n",
      " conv2d_33 (Conv2D)          (None, 256, 256, 32)      896       \n",
      "                                                                 \n",
      " batch_normalization_45 (Bat  (None, 256, 256, 32)     128       \n",
      " chNormalization)                                                \n",
      "                                                                 \n",
      " conv2d_34 (Conv2D)          (None, 256, 256, 64)      18496     \n",
      "                                                                 \n",
      " batch_normalization_46 (Bat  (None, 256, 256, 64)     256       \n",
      " chNormalization)                                                \n",
      "                                                                 \n",
      " average_pooling2d_18 (Avera  (None, 128, 128, 64)     0         \n",
      " gePooling2D)                                                    \n",
      "                                                                 \n",
      " dropout_24 (Dropout)        (None, 128, 128, 64)      0         \n",
      "                                                                 \n",
      " conv2d_35 (Conv2D)          (None, 128, 128, 64)      36928     \n",
      "                                                                 \n",
      " batch_normalization_47 (Bat  (None, 128, 128, 64)     256       \n",
      " chNormalization)                                                \n",
      "                                                                 \n",
      " conv2d_36 (Conv2D)          (None, 128, 128, 64)      36928     \n",
      "                                                                 \n",
      " batch_normalization_48 (Bat  (None, 128, 128, 64)     256       \n",
      " chNormalization)                                                \n",
      "                                                                 \n",
      " average_pooling2d_19 (Avera  (None, 64, 64, 64)       0         \n",
      " gePooling2D)                                                    \n",
      "                                                                 \n",
      " dropout_25 (Dropout)        (None, 64, 64, 64)        0         \n",
      "                                                                 \n",
      " flatten_6 (Flatten)         (None, 262144)            0         \n",
      "                                                                 \n",
      " batch_normalization_49 (Bat  (None, 262144)           1048576   \n",
      " chNormalization)                                                \n",
      "                                                                 \n",
      " dense_12 (Dense)            (None, 128)               33554560  \n",
      "                                                                 \n",
      " activation_6 (Activation)   (None, 128)               0         \n",
      "                                                                 \n",
      " dropout_26 (Dropout)        (None, 128)               0         \n",
      "                                                                 \n",
      " batch_normalization_50 (Bat  (None, 128)              512       \n",
      " chNormalization)                                                \n",
      "                                                                 \n",
      " dense_13 (Dense)            (None, 7)                 903       \n",
      "                                                                 \n",
      "=================================================================\n",
      "Total params: 34,698,695\n",
      "Trainable params: 34,173,703\n",
      "Non-trainable params: 524,992\n",
      "_________________________________________________________________\n"
     ]
    }
   ],
   "source": [
    "from tensorflow.keras.models import Sequential\n",
    "from tensorflow.keras.layers import Conv2D,BatchNormalization,AveragePooling2D,Dropout,Flatten,Dense,Activation\n",
    "from keras.optimizers import Adam\n",
    "from keras.callbacks import ReduceLROnPlateau, EarlyStopping\n",
    "\n",
    "model = Sequential()\n",
    "model.add(Conv2D(32, kernel_size=(3, 3),activation='relu',padding = 'Same',input_shape=(256,256,3)))\n",
    "model.add(BatchNormalization())\n",
    "##############################\n",
    "model.add(Conv2D(64, (3, 3), activation='relu',padding = 'Same'))\n",
    "model.add(BatchNormalization())\n",
    "model.add(AveragePooling2D(pool_size = (2, 2)))\n",
    "model.add(Dropout(0.25))\n",
    "\n",
    "model.add(Conv2D(64, (3, 3), activation='relu',padding = 'Same'))\n",
    "model.add(BatchNormalization())\n",
    "\n",
    "model.add(Conv2D(64, (3, 3), activation='relu',padding = 'Same'))\n",
    "model.add(BatchNormalization())\n",
    "model.add(AveragePooling2D(pool_size=(2, 2)))\n",
    "model.add(Dropout(0.25))\n",
    "##############################\n",
    "####\n",
    "model.add(Flatten())\n",
    "\n",
    "model.add(BatchNormalization())\n",
    "model.add(Dense(128, activation='relu'))\n",
    "model.add(Activation('relu'))\n",
    "model.add(Dropout(0.25))\n",
    "\n",
    "#Output\n",
    "model.add(BatchNormalization())\n",
    "model.add(Dense(7, activation='softmax'))\n",
    "\n",
    "optimizer = Adam(learning_rate=0.0001, beta_1=0.9, beta_2=0.999, epsilon=None, decay=0.0, amsgrad=False)\n",
    "learning_rate_reduction = ReduceLROnPlateau(monitor='val_loss', patience=5, verbose=0, factor=0.5, min_lr=0.000001)\n",
    "early_stopping_monitor = EarlyStopping(patience=20,monitor='val_loss')\n",
    "\n",
    "model.compile(optimizer=optimizer, loss=\"categorical_crossentropy\",metrics=[\"accuracy\"])\n",
    "model.summary()\n"
   ]
  },
  {
   "cell_type": "code",
   "execution_count": 66,
   "metadata": {},
   "outputs": [
    {
     "name": "stdout",
     "output_type": "stream",
     "text": [
      "Epoch 1/50\n",
      "1174/1174 [==============================] - 308s 262ms/step - loss: 1.2625 - accuracy: 0.5417 - val_loss: 1.3295 - val_accuracy: 0.5005 - lr: 1.0000e-04\n",
      "Epoch 2/50\n",
      "1174/1174 [==============================] - 307s 261ms/step - loss: 0.8853 - accuracy: 0.6753 - val_loss: 0.9289 - val_accuracy: 0.6559 - lr: 1.0000e-04\n",
      "Epoch 3/50\n",
      "1174/1174 [==============================] - 307s 261ms/step - loss: 0.6659 - accuracy: 0.7582 - val_loss: 0.9283 - val_accuracy: 0.6526 - lr: 1.0000e-04\n",
      "Epoch 4/50\n",
      "1174/1174 [==============================] - 308s 262ms/step - loss: 0.4739 - accuracy: 0.8356 - val_loss: 0.9334 - val_accuracy: 0.6704 - lr: 1.0000e-04\n",
      "Epoch 5/50\n",
      "1174/1174 [==============================] - 307s 261ms/step - loss: 0.3067 - accuracy: 0.9011 - val_loss: 0.9284 - val_accuracy: 0.6842 - lr: 1.0000e-04\n",
      "Epoch 6/50\n",
      "1174/1174 [==============================] - 307s 261ms/step - loss: 0.2048 - accuracy: 0.9399 - val_loss: 0.9603 - val_accuracy: 0.6803 - lr: 1.0000e-04\n",
      "Epoch 7/50\n",
      "1174/1174 [==============================] - 308s 262ms/step - loss: 0.1448 - accuracy: 0.9615 - val_loss: 0.9483 - val_accuracy: 0.7015 - lr: 1.0000e-04\n",
      "Epoch 8/50\n",
      "1174/1174 [==============================] - 307s 261ms/step - loss: 0.1124 - accuracy: 0.9700 - val_loss: 0.9710 - val_accuracy: 0.7040 - lr: 1.0000e-04\n",
      "Epoch 9/50\n",
      "1174/1174 [==============================] - 307s 261ms/step - loss: 0.0697 - accuracy: 0.9837 - val_loss: 0.8873 - val_accuracy: 0.7226 - lr: 5.0000e-05\n",
      "Epoch 10/50\n",
      "1174/1174 [==============================] - 308s 262ms/step - loss: 0.0518 - accuracy: 0.9892 - val_loss: 0.8749 - val_accuracy: 0.7297 - lr: 5.0000e-05\n",
      "Epoch 11/50\n",
      "1174/1174 [==============================] - 307s 262ms/step - loss: 0.0434 - accuracy: 0.9915 - val_loss: 1.0152 - val_accuracy: 0.7062 - lr: 5.0000e-05\n",
      "Epoch 12/50\n",
      "1174/1174 [==============================] - 306s 260ms/step - loss: 0.0369 - accuracy: 0.9931 - val_loss: 0.9331 - val_accuracy: 0.7264 - lr: 5.0000e-05\n",
      "Epoch 13/50\n",
      "1174/1174 [==============================] - 306s 261ms/step - loss: 0.0363 - accuracy: 0.9919 - val_loss: 0.9203 - val_accuracy: 0.7252 - lr: 5.0000e-05\n",
      "Epoch 14/50\n",
      "1174/1174 [==============================] - 306s 261ms/step - loss: 0.0325 - accuracy: 0.9931 - val_loss: 0.9937 - val_accuracy: 0.7114 - lr: 5.0000e-05\n",
      "Epoch 15/50\n",
      "1174/1174 [==============================] - 305s 260ms/step - loss: 0.0298 - accuracy: 0.9937 - val_loss: 0.9744 - val_accuracy: 0.7278 - lr: 5.0000e-05\n",
      "Epoch 16/50\n",
      "1174/1174 [==============================] - 306s 261ms/step - loss: 0.0222 - accuracy: 0.9960 - val_loss: 0.9290 - val_accuracy: 0.7367 - lr: 2.5000e-05\n",
      "Epoch 17/50\n",
      "1174/1174 [==============================] - 306s 260ms/step - loss: 0.0180 - accuracy: 0.9967 - val_loss: 0.9534 - val_accuracy: 0.7227 - lr: 2.5000e-05\n",
      "Epoch 18/50\n",
      "1174/1174 [==============================] - 306s 260ms/step - loss: 0.0176 - accuracy: 0.9972 - val_loss: 0.9418 - val_accuracy: 0.7345 - lr: 2.5000e-05\n",
      "Epoch 19/50\n",
      "1174/1174 [==============================] - 306s 260ms/step - loss: 0.0160 - accuracy: 0.9973 - val_loss: 0.9495 - val_accuracy: 0.7332 - lr: 2.5000e-05\n",
      "Epoch 20/50\n",
      "1174/1174 [==============================] - 305s 260ms/step - loss: 0.0154 - accuracy: 0.9970 - val_loss: 0.9586 - val_accuracy: 0.7353 - lr: 2.5000e-05\n",
      "Epoch 21/50\n",
      "1174/1174 [==============================] - 306s 260ms/step - loss: 0.0127 - accuracy: 0.9981 - val_loss: 0.9416 - val_accuracy: 0.7361 - lr: 1.2500e-05\n",
      "Epoch 22/50\n",
      "1174/1174 [==============================] - 306s 260ms/step - loss: 0.0121 - accuracy: 0.9980 - val_loss: 0.9515 - val_accuracy: 0.7318 - lr: 1.2500e-05\n",
      "Epoch 23/50\n",
      "1174/1174 [==============================] - 306s 260ms/step - loss: 0.0109 - accuracy: 0.9983 - val_loss: 0.9568 - val_accuracy: 0.7319 - lr: 1.2500e-05\n",
      "Epoch 24/50\n",
      "1174/1174 [==============================] - 306s 260ms/step - loss: 0.0098 - accuracy: 0.9986 - val_loss: 0.9637 - val_accuracy: 0.7375 - lr: 1.2500e-05\n",
      "Epoch 25/50\n",
      "1174/1174 [==============================] - 306s 260ms/step - loss: 0.0096 - accuracy: 0.9986 - val_loss: 0.9611 - val_accuracy: 0.7350 - lr: 1.2500e-05\n",
      "Epoch 26/50\n",
      "1174/1174 [==============================] - 305s 260ms/step - loss: 0.0087 - accuracy: 0.9988 - val_loss: 0.9643 - val_accuracy: 0.7363 - lr: 6.2500e-06\n",
      "Epoch 27/50\n",
      "1174/1174 [==============================] - 304s 259ms/step - loss: 0.0084 - accuracy: 0.9988 - val_loss: 0.9591 - val_accuracy: 0.7375 - lr: 6.2500e-06\n",
      "Epoch 28/50\n",
      "1174/1174 [==============================] - 306s 260ms/step - loss: 0.0084 - accuracy: 0.9987 - val_loss: 0.9669 - val_accuracy: 0.7366 - lr: 6.2500e-06\n",
      "Epoch 29/50\n",
      "1174/1174 [==============================] - 306s 261ms/step - loss: 0.0079 - accuracy: 0.9989 - val_loss: 0.9530 - val_accuracy: 0.7404 - lr: 6.2500e-06\n",
      "Epoch 30/50\n",
      "1174/1174 [==============================] - 306s 261ms/step - loss: 0.0077 - accuracy: 0.9989 - val_loss: 0.9605 - val_accuracy: 0.7363 - lr: 6.2500e-06\n"
     ]
    }
   ],
   "source": [
    "history = model.fit(train,epochs=50,validation_data=validation,callbacks=[learning_rate_reduction,early_stopping_monitor])"
   ]
  },
  {
   "cell_type": "code",
   "execution_count": 67,
   "metadata": {},
   "outputs": [],
   "source": [
    "model.save(\"model.h5\")"
   ]
  },
  {
   "cell_type": "code",
   "execution_count": 72,
   "metadata": {},
   "outputs": [
    {
     "data": {
      "text/plain": [
       "[<matplotlib.lines.Line2D at 0x1310ad71400>]"
      ]
     },
     "execution_count": 72,
     "metadata": {},
     "output_type": "execute_result"
    },
    {
     "data": {
      "image/png": "[encoded data removed]",
      "text/plain": [
       "<Figure size 640x480 with 1 Axes>"
      ]
     },
     "metadata": {},
     "output_type": "display_data"
    }
   ],
   "source": [
    "import matplotlib.pyplot as plt\n",
    "\n",
    "plt.plot(history.history[\"val_loss\"])"
   ]
  }
 ],
 "metadata": {
  "language_info": {
   "name": "python"
  },
  "orig_nbformat": 4
 },
 "nbformat": 4,
 "nbformat_minor": 2
}
